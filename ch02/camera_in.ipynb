{
 "cells": [
  {
   "cell_type": "code",
   "execution_count": 27,
   "source": [
    "import sys\r\n",
    "import cv2"
   ],
   "outputs": [],
   "metadata": {}
  },
  {
   "cell_type": "code",
   "execution_count": 24,
   "source": [
    "# 기본 카메라 0번 오픈하기\r\n",
    "\r\n",
    "# cap = cv2.VideoCapture()\r\n",
    "# cap.open(0)\r\n",
    "# 위 두 코드는 cv2.VideoCapture(0) 한 줄로 열 수 있음\r\n",
    "\r\n",
    "# cap = cv2.VideoCapture('video1.mp4')\r\n",
    "\r\n",
    "cap = cv2.VideoCapture(0)\r\n",
    "\r\n",
    "if not cap.isOpened():\r\n",
    "    print('camera open failed')\r\n",
    "    sys.exit()"
   ],
   "outputs": [],
   "metadata": {}
  },
  {
   "cell_type": "code",
   "execution_count": 28,
   "source": [
    "# 속성 가져오기\r\n",
    "\r\n",
    "# w = int(cap.get(cv2.CAP_PROP_FRAME_WIDTH))  # 실수 타입으로 반환하기 때문에 int형으로 변환해서 넣어주기도 한다.\r\n",
    "# h = int(cap.get(cv2.CAP_PROP_FRAME_HEIGHT))\r\n",
    "\r\n",
    "# cap.set(cv2.CAP_PROP_FRAME_WIDTH, 320)\r\n",
    "# cap.set(cv2.CAP_PROP_FRAME_HEIGHT, 240)\r\n",
    "\r\n",
    "# print(w, h)\r\n",
    "w = round(cap.get(cv2.CAP_PROP_FRAME_WIDTH))  # 정수형으로 변환하려고 round !\r\n",
    "h = round(cap.get(cv2.CAP_PROP_FRAME_HEIGHT))\r\n",
    "fps = cap.get(cv2.CAP_PROP_FPS)\r\n",
    "\r\n",
    "fourcc = cv2.VideoWriter_fourcc(*'DIVX')  #'DIVX' -> 'D', 'I', 'V', 'X' 라고 해도 됨\r\n",
    "delay = round(1000 / fps)\r\n",
    "\r\n",
    "out = cv2.VideoWriter('output.avi', fourcc, fps, (w, h))\r\n",
    "\r\n",
    "if not out.isOpened():\r\n",
    "    print('File open failed!')\r\n",
    "    cap.release()  # 카메라 객체 열었던 거 닫고 그냥 종료하도록 ...\r\n",
    "    sys.exit()"
   ],
   "outputs": [
    {
     "output_type": "error",
     "ename": "ZeroDivisionError",
     "evalue": "float division by zero",
     "traceback": [
      "\u001b[1;31m---------------------------------------------------------------------------\u001b[0m",
      "\u001b[1;31mZeroDivisionError\u001b[0m                         Traceback (most recent call last)",
      "\u001b[1;32m~\\AppData\\Local\\Temp/ipykernel_8900/3553467757.py\u001b[0m in \u001b[0;36m<module>\u001b[1;34m\u001b[0m\n\u001b[0;32m     13\u001b[0m \u001b[1;33m\u001b[0m\u001b[0m\n\u001b[0;32m     14\u001b[0m \u001b[0mfourcc\u001b[0m \u001b[1;33m=\u001b[0m \u001b[0mcv2\u001b[0m\u001b[1;33m.\u001b[0m\u001b[0mVideoWriter_fourcc\u001b[0m\u001b[1;33m(\u001b[0m\u001b[1;33m*\u001b[0m\u001b[1;34m'DIVX'\u001b[0m\u001b[1;33m)\u001b[0m  \u001b[1;31m#'DIVX' -> 'D', 'I', 'V', 'X' 라고 해도 됨\u001b[0m\u001b[1;33m\u001b[0m\u001b[1;33m\u001b[0m\u001b[0m\n\u001b[1;32m---> 15\u001b[1;33m \u001b[0mdelay\u001b[0m \u001b[1;33m=\u001b[0m \u001b[0mround\u001b[0m\u001b[1;33m(\u001b[0m\u001b[1;36m1000\u001b[0m \u001b[1;33m/\u001b[0m \u001b[0mfps\u001b[0m\u001b[1;33m)\u001b[0m\u001b[1;33m\u001b[0m\u001b[1;33m\u001b[0m\u001b[0m\n\u001b[0m\u001b[0;32m     16\u001b[0m \u001b[1;33m\u001b[0m\u001b[0m\n\u001b[0;32m     17\u001b[0m \u001b[0mout\u001b[0m \u001b[1;33m=\u001b[0m \u001b[0mcv2\u001b[0m\u001b[1;33m.\u001b[0m\u001b[0mVideoWriter\u001b[0m\u001b[1;33m(\u001b[0m\u001b[1;34m'output.avi'\u001b[0m\u001b[1;33m,\u001b[0m \u001b[0mfourcc\u001b[0m\u001b[1;33m,\u001b[0m \u001b[0mfps\u001b[0m\u001b[1;33m,\u001b[0m \u001b[1;33m(\u001b[0m\u001b[0mw\u001b[0m\u001b[1;33m,\u001b[0m \u001b[0mh\u001b[0m\u001b[1;33m)\u001b[0m\u001b[1;33m)\u001b[0m\u001b[1;33m\u001b[0m\u001b[1;33m\u001b[0m\u001b[0m\n",
      "\u001b[1;31mZeroDivisionError\u001b[0m: float division by zero"
     ]
    }
   ],
   "metadata": {}
  },
  {
   "cell_type": "code",
   "execution_count": 22,
   "source": [
    "# open되어 있는 카메라 디바이스에서 한 프레임씩 받아오기\r\n",
    "\r\n",
    "while True:\r\n",
    "    ret, frame = cap.read()  # ret, frame 순서 기억 ! , 한 프레임씩 가져오는 중\r\n",
    "\r\n",
    "    if not ret:\r\n",
    "        break\r\n",
    "\r\n",
    "    # 정지 영상에서 윤곽선을 추출하는 함수\r\n",
    "    edge = cv2.Canny(frame, 50, 150)\r\n",
    "\r\n",
    "    cv2.imshow('frame', frame)\r\n",
    "    cv2.imshow('edge', edge)\r\n",
    "    if cv2.waitKey(20) == 27:  # ESC\r\n",
    "        break\r\n",
    "\r\n",
    "cap.release()\r\n",
    "cv2.destroyAllWindows()"
   ],
   "outputs": [],
   "metadata": {}
  },
  {
   "cell_type": "code",
   "execution_count": 26,
   "source": [
    "while True:\r\n",
    "    ret, frame = cap.read()\r\n",
    "\r\n",
    "    if not ret:\r\n",
    "        break\r\n",
    "\r\n",
    "    # inversed = ~frame  # 프레임 반전\r\n",
    "    # 엣지를 저장해 보자\r\n",
    "    edge = cv2.Canny(frame, 50, 150)\r\n",
    "    edge_color = cv2.cvtColor(edge, cv2.COLOR_GRAY2BGR)  # 그레이 스케일을 저장하려면 지금은 컬러 영상을 저장하기 위한 용도로 만들었기 때문에 이렇게 변환해줘야 저장이 된다 !\r\n",
    "\r\n",
    "    # out.write(inversed)\r\n",
    "    out.write(edge_color)  # 그레이스케일을 컬러로 바꿔준 것을 넣어줘야 저장이 된다 !\r\n",
    "\r\n",
    "    cv2.imshow('frame', frame)\r\n",
    "    # cv2.imshow('inversed', inversed)\r\n",
    "    cv2.imshow('edge', edge)\r\n",
    "\r\n",
    "\r\n",
    "    if cv2.waitKey(delay) == 27:\r\n",
    "        break\r\n",
    "\r\n",
    "cap.release()\r\n",
    "cv2.destroyAllWindows()"
   ],
   "outputs": [],
   "metadata": {}
  }
 ],
 "metadata": {
  "orig_nbformat": 4,
  "language_info": {
   "name": "python",
   "version": "3.9.6",
   "mimetype": "text/x-python",
   "codemirror_mode": {
    "name": "ipython",
    "version": 3
   },
   "pygments_lexer": "ipython3",
   "nbconvert_exporter": "python",
   "file_extension": ".py"
  },
  "kernelspec": {
   "name": "python3",
   "display_name": "Python 3.9.6 64-bit"
  },
  "interpreter": {
   "hash": "0611604c638db2c10c53cd7ac769fdce0e5d7f70f7d9206f4956bee3c7157847"
  }
 },
 "nbformat": 4,
 "nbformat_minor": 2
}