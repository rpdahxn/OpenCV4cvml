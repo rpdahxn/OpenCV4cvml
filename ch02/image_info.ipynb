{
 "cells": [
  {
   "cell_type": "code",
   "execution_count": 1,
   "source": [
    "import sys\r\n",
    "import cv2"
   ],
   "outputs": [],
   "metadata": {}
  },
  {
   "cell_type": "code",
   "execution_count": 2,
   "source": [
    "# 영상 불러오기\r\n",
    "\r\n",
    "img1 = cv2.imread('cat.bmp', cv2.IMREAD_GRAYSCALE)\r\n",
    "img2 = cv2.imread('cat.bmp', cv2.IMREAD_COLOR)\r\n",
    "\r\n",
    "if img1 is None or img2 is None:\r\n",
    "    print('Image load failed')\r\n",
    "    sys.exit()\r\n",
    "\r\n",
    "# 영상의 속성 참조\r\n",
    "print('type(img1)', type(img1))\r\n",
    "print('img1.shape:', img1.shape)\r\n",
    "print('img2.shape:', img2.shape)\r\n",
    "print('img1.type:', img1.type)\r\n",
    "print('img2.type:', img2.type)\r\n",
    "\r\n",
    "# 그레이스케일 영상인지 확인\r\n",
    "if img1.ndim == 2:\r\n",
    "    print('img1 is a grayscale image')  # 그레이스케일은 2차원 , 컬러영상은 3차원 ! or if문에 len(img1.shape) == 2 해도 됨\r\n",
    "\r\n",
    "h, w = img1.shape[:2]\r\n",
    "print('w x h = {} x {}'.format(w, h))\r\n",
    "\r\n",
    "for y in range(h):\r\n",
    "    for x in range(w):\r\n",
    "        img1[y, x] = 0\r\n",
    "        img2[y, x] = (0, 255, 255)  # 파이썬에서는 이방법 별로 ! 매우 느리다 아래와 같은 방법으로 대체해서 쓴다 !\r\n",
    "\r\n",
    "x = 20\r\n",
    "y = 10\r\n",
    "p = img1[y, x]  # 특정 픽셀값을 참조하는 경우\r\n",
    "\r\n",
    "img1[:, :] = 0\r\n",
    "img2[:, :] = (0, 255, 255)\r\n",
    "\r\n",
    "cv2.imshow('img1', img1)\r\n",
    "cv2.imshow('img2', img2)\r\n",
    "cv2.waitKey()\r\n",
    "\r\n",
    "cv2.destroyAllWindows()"
   ],
   "outputs": [
    {
     "output_type": "stream",
     "name": "stdout",
     "text": [
      "Image load failed\n"
     ]
    },
    {
     "output_type": "error",
     "ename": "SystemExit",
     "evalue": "",
     "traceback": [
      "An exception has occurred, use %tb to see the full traceback.\n",
      "\u001b[1;31mSystemExit\u001b[0m\n"
     ]
    },
    {
     "output_type": "stream",
     "name": "stderr",
     "text": [
      "C:\\Users\\dahyeon\\AppData\\Roaming\\Python\\Python39\\site-packages\\IPython\\core\\interactiveshell.py:3449: UserWarning: To exit: use 'exit', 'quit', or Ctrl-D.\n",
      "  warn(\"To exit: use 'exit', 'quit', or Ctrl-D.\", stacklevel=1)\n"
     ]
    }
   ],
   "metadata": {}
  }
 ],
 "metadata": {
  "orig_nbformat": 4,
  "language_info": {
   "name": "python",
   "version": "3.9.6",
   "mimetype": "text/x-python",
   "codemirror_mode": {
    "name": "ipython",
    "version": 3
   },
   "pygments_lexer": "ipython3",
   "nbconvert_exporter": "python",
   "file_extension": ".py"
  },
  "kernelspec": {
   "name": "python3",
   "display_name": "Python 3.9.6 64-bit"
  },
  "interpreter": {
   "hash": "0611604c638db2c10c53cd7ac769fdce0e5d7f70f7d9206f4956bee3c7157847"
  }
 },
 "nbformat": 4,
 "nbformat_minor": 2
}