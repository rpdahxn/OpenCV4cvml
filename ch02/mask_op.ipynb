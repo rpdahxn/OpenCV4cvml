{
 "cells": [
  {
   "cell_type": "code",
   "execution_count": 2,
   "source": [
    "import sys\r\n",
    "import cv2"
   ],
   "outputs": [],
   "metadata": {}
  },
  {
   "cell_type": "code",
   "execution_count": 3,
   "source": [
    "# 마스크 영상을 이용한 영상 합성\r\n",
    "\r\n",
    "src = cv2.imread('airplane.bmp', cv2.IMREAD_COLOR)\r\n",
    "mask = cv2.imread('mask_plane.bmp', cv2.IMREAD_GRAYSCALE)\r\n",
    "dst = cv2.imread('field.bmp', cv2.IMREAD_COLOR)  # dst는 입력값이자 출력값\r\n",
    "\r\n",
    "# 방법1\r\n",
    "cv2.copyTo(src, mask, dst)  # src영상에서 mask를 이용해 dst를 만들려는 것\r\n",
    "# 방법2\r\n",
    "dst = cv2.copyTo(src, mask)  # 이렇게 해주면 우선 src와 동일한 크기의 검정색 화면을 만들고 거기에 이제 mask로 따온 거를 붙인 결과가 나옴\r\n",
    "# 방법3\r\n",
    "dst[mask > 0] = src[mask > 0]\r\n",
    "# src와 dst는 타입이 무조건 같아야 한다\r\n",
    "\r\n",
    "cv2.imshow('src', src)\r\n",
    "cv2.imshow('dst', dst)\r\n",
    "cv2.imshow('mask', mask)\r\n",
    "cv2.waitKey()\r\n",
    "\r\n",
    "cv2.destroyAllWindows()"
   ],
   "outputs": [],
   "metadata": {}
  },
  {
   "cell_type": "code",
   "execution_count": 3,
   "source": [
    "src = cv2.imread('opencv-logo-white.png', cv2.IMREAD_UNCHANGED)\r\n",
    "mask = src[:, :, -1]  # -1은 마지막 채널 한개만 ! 가져온다는 의미\r\n",
    "src = src[:, :, 0:3]  # 0:3은 세개 채널을 전부 가져온다는 의미\r\n",
    "dst = cv2.imread('field.bmp', cv2.IMREAD_COLOR)\r\n",
    "\r\n",
    "h, w = src.shape[:2]\r\n",
    "\r\n",
    "crop = dst[0:h, 0:w]  # crop 이란 dst영상의 일부이며 logo 영상과 같은 크기의 , 참조 ! 뒤에 .copy() 안 붙였기 때문에 공유 하는 중 ! crop이 바뀌면 실제로 dst에서도 바뀐다고 ~\r\n",
    "\r\n",
    "cv2.copyTo(src, mask, crop)\r\n",
    "\r\n",
    "cv2.imshow('src', src)\r\n",
    "cv2.imshow('dst', dst)\r\n",
    "cv2.imshow('mask', mask)\r\n",
    "cv2.waitKey()\r\n",
    "\r\n",
    "cv2.destroyAllWindows()"
   ],
   "outputs": [
    {
     "output_type": "execute_result",
     "data": {
      "text/plain": [
       "array([[[203, 199, 207],\n",
       "        [199, 200, 208],\n",
       "        [202, 201, 211],\n",
       "        ...,\n",
       "        [ 94,  59,  14],\n",
       "        [ 96,  59,  13],\n",
       "        [ 95,  59,  11]],\n",
       "\n",
       "       [[203, 199, 207],\n",
       "        [204, 198, 207],\n",
       "        [200, 199, 209],\n",
       "        ...,\n",
       "        [ 95,  60,  17],\n",
       "        [ 97,  59,  13],\n",
       "        [ 95,  59,  12]],\n",
       "\n",
       "       [[203, 196, 208],\n",
       "        [204, 196, 208],\n",
       "        [203, 198, 208],\n",
       "        ...,\n",
       "        [ 95,  60,  15],\n",
       "        [ 97,  60,  15],\n",
       "        [ 95,  59,  14]],\n",
       "\n",
       "       ...,\n",
       "\n",
       "       [[178, 146, 104],\n",
       "        [179, 150, 105],\n",
       "        [182, 150, 111],\n",
       "        ...,\n",
       "        [193, 156,  91],\n",
       "        [192, 155,  88],\n",
       "        [193, 155,  88]],\n",
       "\n",
       "       [[176, 141,  90],\n",
       "        [177, 145,  96],\n",
       "        [177, 146,  97],\n",
       "        ...,\n",
       "        [192, 157,  89],\n",
       "        [193, 155,  88],\n",
       "        [194, 155,  89]],\n",
       "\n",
       "       [[177, 142,  91],\n",
       "        [176, 141,  87],\n",
       "        [172, 139,  83],\n",
       "        ...,\n",
       "        [192, 154,  85],\n",
       "        [192, 156,  89],\n",
       "        [192, 155,  89]]], dtype=uint8)"
      ]
     },
     "metadata": {},
     "execution_count": 3
    }
   ],
   "metadata": {}
  }
 ],
 "metadata": {
  "orig_nbformat": 4,
  "language_info": {
   "name": "python",
   "version": "3.9.6",
   "mimetype": "text/x-python",
   "codemirror_mode": {
    "name": "ipython",
    "version": 3
   },
   "pygments_lexer": "ipython3",
   "nbconvert_exporter": "python",
   "file_extension": ".py"
  },
  "kernelspec": {
   "name": "python3",
   "display_name": "Python 3.9.6 64-bit"
  },
  "interpreter": {
   "hash": "0611604c638db2c10c53cd7ac769fdce0e5d7f70f7d9206f4956bee3c7157847"
  }
 },
 "nbformat": 4,
 "nbformat_minor": 2
}