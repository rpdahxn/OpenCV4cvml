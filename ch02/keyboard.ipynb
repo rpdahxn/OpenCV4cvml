{
 "cells": [
  {
   "cell_type": "code",
   "execution_count": 1,
   "source": [
    "import sys\r\n",
    "import numpy as np\r\n",
    "import cv2"
   ],
   "outputs": [],
   "metadata": {}
  },
  {
   "cell_type": "code",
   "execution_count": 2,
   "source": [
    "img = cv2.imread('cat.bmp', cv2.IMREAD_GRAYSCALE)\r\n",
    "\r\n",
    "if img is None:\r\n",
    "    print('Image load failed!')\r\n",
    "    sys.exit()\r\n",
    "\r\n",
    "cv2.namedWindow('image')\r\n",
    "cv2.imshow('image', img)\r\n",
    "cv2.waitKey()  # 사진 출력 후 아무 키나 눌릴 때까지 기다림\r\n",
    "\r\n",
    "# 특정 키가 입력되었을 때 종료하고 싶다면\r\n",
    "# while True:\r\n",
    "#     key = cv2.waitKey()\r\n",
    "#     if key == 27:\r\n",
    "#         break\r\n",
    "#     elif key == ord('i') or key == ord('I'):\r\n",
    "#         img = ~img  # 이미지 반전하기\r\n",
    "\r\n",
    "cv2.destroyAllWindows()"
   ],
   "outputs": [],
   "metadata": {}
  }
 ],
 "metadata": {
  "orig_nbformat": 4,
  "language_info": {
   "name": "python",
   "version": "3.9.6",
   "mimetype": "text/x-python",
   "codemirror_mode": {
    "name": "ipython",
    "version": 3
   },
   "pygments_lexer": "ipython3",
   "nbconvert_exporter": "python",
   "file_extension": ".py"
  },
  "kernelspec": {
   "name": "python3",
   "display_name": "Python 3.9.6 64-bit"
  },
  "interpreter": {
   "hash": "0611604c638db2c10c53cd7ac769fdce0e5d7f70f7d9206f4956bee3c7157847"
  }
 },
 "nbformat": 4,
 "nbformat_minor": 2
}