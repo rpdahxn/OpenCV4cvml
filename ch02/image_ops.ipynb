{
 "cells": [
  {
   "cell_type": "code",
   "execution_count": 4,
   "source": [
    "import numpy as np\r\n",
    "import cv2\r\n",
    "\r\n",
    "# 새 영상 생성하기\r\n",
    "# img1 = np.empty((240, 320), dtype = np.uint8)  # grayscale , garbage 값으로 채움\r\n",
    "# img2 = np.zeros((240, 320, 3), dtype = np.uint8)  # 0 값으로 채움\r\n",
    "# img3 = np.ones((240, 320), dtype = np.uint8) * 255  # 1 로 채움\r\n",
    "# img4 = np.full((240, 320, 3), 128, dtype = np.uint8)  # fillvalue를 넣어줘야함 , 중간값 즉 회색 정도의 128 !\r\n",
    "\r\n",
    "# 영상 복사하기\r\n",
    "img1 = cv2.imread('HappyFish.jpg')\r\n",
    "\r\n",
    "# img2 = img1  # 참조 개념\r\n",
    "# img3 = img1.copy()  # 완전히 복사본을 새로 생성한 개념\r\n",
    "\r\n",
    "# 부분 영상 추출하기 -> 인덱싱 방법 활용\r\n",
    "img2 = img1[40:120, 30:150]\r\n",
    "img3 = img1[40:120, 30:150].copy()\r\n",
    "\r\n",
    "cv2.imshow('img1', img1)\r\n",
    "cv2.imshow('img2', img2)\r\n",
    "cv2.imshow('img3', img3)\r\n",
    "# cv2.imshow('img4', img4)\r\n",
    "cv2.waitKey()\r\n",
    "cv2.destroyAllWindows()"
   ],
   "outputs": [
    {
     "output_type": "error",
     "ename": "error",
     "evalue": "OpenCV(4.5.3) :-1: error: (-5:Bad argument) in function 'imshow'\n> Overload resolution failed:\n>  - mat is not a numpy array, neither a scalar\n>  - Expected Ptr<cv::cuda::GpuMat> for argument 'mat'\n>  - Expected Ptr<cv::UMat> for argument 'mat'\n",
     "traceback": [
      "\u001b[1;31m---------------------------------------------------------------------------\u001b[0m",
      "\u001b[1;31merror\u001b[0m                                     Traceback (most recent call last)",
      "\u001b[1;32m~\\AppData\\Local\\Temp/ipykernel_932/2458824585.py\u001b[0m in \u001b[0;36m<module>\u001b[1;34m\u001b[0m\n\u001b[0;32m     20\u001b[0m \u001b[0mcv2\u001b[0m\u001b[1;33m.\u001b[0m\u001b[0mimshow\u001b[0m\u001b[1;33m(\u001b[0m\u001b[1;34m'img1'\u001b[0m\u001b[1;33m,\u001b[0m \u001b[0mimg1\u001b[0m\u001b[1;33m)\u001b[0m\u001b[1;33m\u001b[0m\u001b[1;33m\u001b[0m\u001b[0m\n\u001b[0;32m     21\u001b[0m \u001b[0mcv2\u001b[0m\u001b[1;33m.\u001b[0m\u001b[0mimshow\u001b[0m\u001b[1;33m(\u001b[0m\u001b[1;34m'img2'\u001b[0m\u001b[1;33m,\u001b[0m \u001b[0mimg2\u001b[0m\u001b[1;33m)\u001b[0m\u001b[1;33m\u001b[0m\u001b[1;33m\u001b[0m\u001b[0m\n\u001b[1;32m---> 22\u001b[1;33m \u001b[0mcv2\u001b[0m\u001b[1;33m.\u001b[0m\u001b[0mimshow\u001b[0m\u001b[1;33m(\u001b[0m\u001b[1;34m'img3'\u001b[0m\u001b[1;33m,\u001b[0m \u001b[0mimg3\u001b[0m\u001b[1;33m)\u001b[0m\u001b[1;33m\u001b[0m\u001b[1;33m\u001b[0m\u001b[0m\n\u001b[0m\u001b[0;32m     23\u001b[0m \u001b[1;31m# cv2.imshow('img4', img4)\u001b[0m\u001b[1;33m\u001b[0m\u001b[1;33m\u001b[0m\u001b[1;33m\u001b[0m\u001b[0m\n\u001b[0;32m     24\u001b[0m \u001b[0mcv2\u001b[0m\u001b[1;33m.\u001b[0m\u001b[0mwaitKey\u001b[0m\u001b[1;33m(\u001b[0m\u001b[1;33m)\u001b[0m\u001b[1;33m\u001b[0m\u001b[1;33m\u001b[0m\u001b[0m\n",
      "\u001b[1;31merror\u001b[0m: OpenCV(4.5.3) :-1: error: (-5:Bad argument) in function 'imshow'\n> Overload resolution failed:\n>  - mat is not a numpy array, neither a scalar\n>  - Expected Ptr<cv::cuda::GpuMat> for argument 'mat'\n>  - Expected Ptr<cv::UMat> for argument 'mat'\n"
     ]
    }
   ],
   "metadata": {}
  },
  {
   "cell_type": "code",
   "execution_count": null,
   "source": [],
   "outputs": [],
   "metadata": {}
  }
 ],
 "metadata": {
  "orig_nbformat": 4,
  "language_info": {
   "name": "python",
   "version": "3.9.6",
   "mimetype": "text/x-python",
   "codemirror_mode": {
    "name": "ipython",
    "version": 3
   },
   "pygments_lexer": "ipython3",
   "nbconvert_exporter": "python",
   "file_extension": ".py"
  },
  "kernelspec": {
   "name": "python3",
   "display_name": "Python 3.9.6 64-bit"
  },
  "interpreter": {
   "hash": "0611604c638db2c10c53cd7ac769fdce0e5d7f70f7d9206f4956bee3c7157847"
  }
 },
 "nbformat": 4,
 "nbformat_minor": 2
}