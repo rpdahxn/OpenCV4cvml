{
 "cells": [
  {
   "cell_type": "code",
   "execution_count": 13,
   "source": [
    "import sys\r\n",
    "import numpy as np\r\n",
    "import cv2"
   ],
   "outputs": [],
   "metadata": {}
  },
  {
   "cell_type": "code",
   "execution_count": 14,
   "source": [
    "oldx = oldy = -1\r\n",
    "\r\n",
    "def on_mouse(event, x, y, flags, param):\r\n",
    "    global img, oldx, oldy\r\n",
    "    \r\n",
    "    if event == cv2.EVENT_LBUTTONDOWN:\r\n",
    "        oldx, oldy = x, y\r\n",
    "        print('EVENT_LBUTTONDOWN: {}, {}'.format(x, y))\r\n",
    "    elif event == cv2.EVENT_LBUTTONUP:\r\n",
    "        print('EVENT_LBUTTONUP: {}, {}'.format(x, y))\r\n",
    "    elif event == cv2.EVENT_MOUSEMOVE:\r\n",
    "        if flags & cv2.EVENT_FLAG_LBUTTON:  # = 말고 비트연산자 계산 이용해서 ==으로 하면 만약 컨트롤키를 누르고 왼쪽누르고 드래그하면 인식 못함 ! 그래서 & 으로 바꿔준 것\r\n",
    "            # print('EVENT_MOUSEMOVE: {}, {}'.format(x, y))\r\n",
    "            # cv2.circle(img, (x, y), 5, (0, 0, 255), -1)\r\n",
    "            cv2.line(img, (oldx, oldy), (x, y), (0, 0, 255), 5, cv2.LINE_AA)\r\n",
    "            cv2.imshow('image', img )\r\n",
    "            oldx, oldy = x, y"
   ],
   "outputs": [],
   "metadata": {}
  },
  {
   "cell_type": "code",
   "execution_count": 15,
   "source": [
    "img = np.ones((480, 640, 3), dtype = np.uint8) * 255\r\n",
    "\r\n",
    "# cv2.namedWindow('image')\r\n",
    "cv2.imshow('image', img)\r\n",
    "cv2.setMouseCallback('image', on_mouse)\r\n",
    "\r\n",
    "cv2.waitKey()  # 키보드 입력이 있을때까지 대기\r\n",
    "\r\n",
    "cv2.destroyAllWindows()"
   ],
   "outputs": [
    {
     "output_type": "stream",
     "name": "stdout",
     "text": [
      "EVENT_LBUTTONDOWN: 208, 292\n",
      "EVENT_LBUTTONUP: 527, 156\n"
     ]
    }
   ],
   "metadata": {}
  }
 ],
 "metadata": {
  "orig_nbformat": 4,
  "language_info": {
   "name": "python",
   "version": "3.9.6",
   "mimetype": "text/x-python",
   "codemirror_mode": {
    "name": "ipython",
    "version": 3
   },
   "pygments_lexer": "ipython3",
   "nbconvert_exporter": "python",
   "file_extension": ".py"
  },
  "kernelspec": {
   "name": "python3",
   "display_name": "Python 3.9.6 64-bit ('venv': venv)"
  },
  "interpreter": {
   "hash": "a2db2e5c419b001cf76eaf1c665eac4333ef227039080c13d98aa2c59dbed1da"
  }
 },
 "nbformat": 4,
 "nbformat_minor": 2
}