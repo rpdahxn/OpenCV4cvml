{
 "cells": [
  {
   "cell_type": "code",
   "execution_count": 1,
   "source": [
    "import sys\r\n",
    "import numpy as np\r\n",
    "import cv2"
   ],
   "outputs": [],
   "metadata": {}
  },
  {
   "cell_type": "code",
   "execution_count": 3,
   "source": [
    "# 컬러 영상 불러오기\r\n",
    "\r\n",
    "src = cv2.imread('candies.png', cv2.IMREAD_COLOR)\r\n",
    "\r\n",
    "if src is None:\r\n",
    "    print('Image load failed!')\r\n",
    "    sys.exit()\r\n",
    "\r\n",
    "# 컬러 영상 속성 확인\r\n",
    "print('src.shape:', src.shape)  # src.shape : (480, 640, 3)\r\n",
    "print('src.dtype:', src.dtype)  # src.dtype : uint8\r\n",
    "\r\n",
    "# HSV로 변환하기\r\n",
    "src_hsv = cv2.cvtColor(src, cv2.COLOR_BGR2HSV)\r\n",
    "planes = cv2.split(src_hsv)\r\n",
    "\r\n",
    "# planes = cv2.split(src)\r\n",
    "\r\n",
    "cv2.imshow('src', src)\r\n",
    "cv2.imshow('planes[0]', planes[0])\r\n",
    "cv2.imshow('planes[1]', planes[1])\r\n",
    "cv2.imshow('planes[2]', planes[2])\r\n",
    "cv2.waitKey()\r\n",
    "\r\n",
    "cv2.destroyAllWindows()"
   ],
   "outputs": [
    {
     "output_type": "stream",
     "name": "stdout",
     "text": [
      "src.shape: (480, 640, 3)\n",
      "src.dtype: uint8\n"
     ]
    }
   ],
   "metadata": {}
  }
 ],
 "metadata": {
  "orig_nbformat": 4,
  "language_info": {
   "name": "python",
   "version": "3.9.6",
   "mimetype": "text/x-python",
   "codemirror_mode": {
    "name": "ipython",
    "version": 3
   },
   "pygments_lexer": "ipython3",
   "nbconvert_exporter": "python",
   "file_extension": ".py"
  },
  "kernelspec": {
   "name": "python3",
   "display_name": "Python 3.9.6 64-bit ('myenv': venv)"
  },
  "interpreter": {
   "hash": "db14ae103f93568e7329035f9dae10eea815d74dab9d87f6bd2f583844f8cdbd"
  }
 },
 "nbformat": 4,
 "nbformat_minor": 2
}