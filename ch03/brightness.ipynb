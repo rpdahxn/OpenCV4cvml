{
 "cells": [
  {
   "cell_type": "code",
   "execution_count": 1,
   "source": [
    "import sys\r\n",
    "import numpy as np\r\n",
    "import cv2\r\n",
    "\r\n",
    "# src = cv2.imread('lenna.bmp', cv2.IMREAD_GRAYSCALE)\r\n",
    "src = cv2.imread('lenna.bmp')\r\n",
    "\r\n",
    "# dst = cv2.add(src, 100)\r\n",
    "# dst = np.clip(src + 100., 0, 255).astype(np.uint8)\r\n",
    "dst = cv2.add(src, (100, 0, 0, 0))  # BGR 순이니까 B성분만 100만큼 늘린 꼴\r\n",
    "\r\n",
    "cv2.imshow('src', src)\r\n",
    "cv2.imshow('dst', dst)\r\n",
    "cv2.waitKey()\r\n",
    "\r\n",
    "cv2.destroyAllWindows()"
   ],
   "outputs": [],
   "metadata": {}
  }
 ],
 "metadata": {
  "orig_nbformat": 4,
  "language_info": {
   "name": "python",
   "version": "3.9.6",
   "mimetype": "text/x-python",
   "codemirror_mode": {
    "name": "ipython",
    "version": 3
   },
   "pygments_lexer": "ipython3",
   "nbconvert_exporter": "python",
   "file_extension": ".py"
  },
  "kernelspec": {
   "name": "python3",
   "display_name": "Python 3.9.6 64-bit ('venv': venv)"
  },
  "interpreter": {
   "hash": "a2db2e5c419b001cf76eaf1c665eac4333ef227039080c13d98aa2c59dbed1da"
  }
 },
 "nbformat": 4,
 "nbformat_minor": 2
}