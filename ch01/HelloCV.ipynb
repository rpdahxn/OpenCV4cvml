{
 "cells": [
  {
   "cell_type": "code",
   "execution_count": 3,
   "source": [
    "import sys\r\n",
    "import cv2\r\n",
    "\r\n",
    "print('Hello, OpenCV', cv2.__version__)\r\n",
    "\r\n",
    "img = cv2.imread('cat.bmp', cv2.IMREAD_GRAYSCALE)\r\n",
    "\r\n",
    "if img is None:\r\n",
    "    print('Image load failed!')\r\n",
    "    sys.exit()\r\n",
    "\r\n",
    "cv2.imwrite('cat_gray.png', img);\r\n",
    "\r\n",
    "cv2.namedWindow('image')\r\n",
    "cv2.imshow('image', img)\r\n",
    "cv2.waitKey()\r\n",
    "\r\n",
    "cv2.destroyAllWindows()"
   ],
   "outputs": [
    {
     "output_type": "stream",
     "name": "stdout",
     "text": [
      "Hello, OpenCV 4.5.3\n"
     ]
    }
   ],
   "metadata": {}
  }
 ],
 "metadata": {
  "orig_nbformat": 4,
  "language_info": {
   "name": "python",
   "version": "3.9.6",
   "mimetype": "text/x-python",
   "codemirror_mode": {
    "name": "ipython",
    "version": 3
   },
   "pygments_lexer": "ipython3",
   "nbconvert_exporter": "python",
   "file_extension": ".py"
  },
  "kernelspec": {
   "name": "python3",
   "display_name": "Python 3.9.6 64-bit"
  },
  "interpreter": {
   "hash": "0611604c638db2c10c53cd7ac769fdce0e5d7f70f7d9206f4956bee3c7157847"
  }
 },
 "nbformat": 4,
 "nbformat_minor": 2
}