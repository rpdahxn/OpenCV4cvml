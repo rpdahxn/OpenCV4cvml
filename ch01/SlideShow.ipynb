{
 "cells": [
  {
   "cell_type": "code",
   "execution_count": null,
   "source": [
    "import sys\r\n",
    "import glob\r\n",
    "import cv2"
   ],
   "outputs": [
    {
     "output_type": "error",
     "ename": "Error",
     "evalue": "Session cannot generate requests",
     "traceback": [
      "Error: Session cannot generate requests",
      "at w.executeCodeCell (c:\\Users\\dahyeon\\.vscode\\extensions\\ms-toolsai.jupyter-2021.8.2031190714\\out\\client\\extension.js:52:301310)",
      "at w.execute (c:\\Users\\dahyeon\\.vscode\\extensions\\ms-toolsai.jupyter-2021.8.2031190714\\out\\client\\extension.js:52:300703)",
      "at w.start (c:\\Users\\dahyeon\\.vscode\\extensions\\ms-toolsai.jupyter-2021.8.2031190714\\out\\client\\extension.js:52:296367)",
      "at runMicrotasks (<anonymous>)",
      "at processTicksAndRejections (internal/process/task_queues.js:93:5)",
      "at async t.CellExecutionQueue.executeQueuedCells (c:\\Users\\dahyeon\\.vscode\\extensions\\ms-toolsai.jupyter-2021.8.2031190714\\out\\client\\extension.js:52:311160)",
      "at async t.CellExecutionQueue.start (c:\\Users\\dahyeon\\.vscode\\extensions\\ms-toolsai.jupyter-2021.8.2031190714\\out\\client\\extension.js:52:310700)"
     ]
    }
   ],
   "metadata": {}
  },
  {
   "cell_type": "code",
   "execution_count": null,
   "source": [
    "img_files = glob.glob('.\\\\images\\\\*.jpg')  # 현재 폴디 밑\\\\에 images 폴더 밑\\\\에 .jpg로 끝나는 파일을 전부 읽어와라"
   ],
   "outputs": [],
   "metadata": {}
  },
  {
   "cell_type": "code",
   "execution_count": null,
   "source": [
    "# 전체 화면 창 띄우기\r\n",
    "\r\n",
    "cv2.namedWindow('image', cv2.WINDOW_NORMAL)\r\n",
    "cv2.setWindowProperty('image', cv2.WND_PROP_FULLSCREEN, cv2.WINDOW_FULLSCREEN)"
   ],
   "outputs": [],
   "metadata": {}
  },
  {
   "cell_type": "code",
   "execution_count": null,
   "source": [
    "cnt = len(img_files)\r\n",
    "idx = 0\r\n",
    "\r\n",
    "while True: \r\n",
    "    img = cv2.imread(img_files[idx])\r\n",
    "    \r\n",
    "    cv2.imshow('image', img)  # image 라는 창에 img 출력하기\r\n",
    "\r\n",
    "    if cv2.waitKey(1000) == 27:  # ESC\r\n",
    "        break\r\n",
    "    idx += 1\r\n",
    "    if idx >= cnt:\r\n",
    "        idx = 0 \r\n",
    "\r\n",
    "cv2.destroyAllWindows()"
   ],
   "outputs": [
    {
     "output_type": "error",
     "ename": "Error",
     "evalue": "Session cannot generate requests",
     "traceback": [
      "Error: Session cannot generate requests",
      "at w.executeCodeCell (c:\\Users\\dahyeon\\.vscode\\extensions\\ms-toolsai.jupyter-2021.8.2031190714\\out\\client\\extension.js:52:301310)",
      "at w.execute (c:\\Users\\dahyeon\\.vscode\\extensions\\ms-toolsai.jupyter-2021.8.2031190714\\out\\client\\extension.js:52:300703)",
      "at w.start (c:\\Users\\dahyeon\\.vscode\\extensions\\ms-toolsai.jupyter-2021.8.2031190714\\out\\client\\extension.js:52:296367)",
      "at runMicrotasks (<anonymous>)",
      "at processTicksAndRejections (internal/process/task_queues.js:93:5)",
      "at async t.CellExecutionQueue.executeQueuedCells (c:\\Users\\dahyeon\\.vscode\\extensions\\ms-toolsai.jupyter-2021.8.2031190714\\out\\client\\extension.js:52:311160)",
      "at async t.CellExecutionQueue.start (c:\\Users\\dahyeon\\.vscode\\extensions\\ms-toolsai.jupyter-2021.8.2031190714\\out\\client\\extension.js:52:310700)"
     ]
    }
   ],
   "metadata": {}
  },
  {
   "cell_type": "code",
   "execution_count": null,
   "source": [
    "import sys\r\n",
    "import glob\r\n",
    "import cv2\r\n",
    "\r\n",
    "\r\n",
    "# 이미지 파일을 모두 img_files 리스트에 추가\r\n",
    "img_files = glob.glob('.\\\\images\\\\*.jpg')\r\n",
    "\r\n",
    "if not img_files:\r\n",
    "    print(\"There are no jpg files in 'images' folder\")\r\n",
    "    sys.exit()\r\n",
    "\r\n",
    "# 전체 화면으로 'image' 창 생성\r\n",
    "cv2.namedWindow('image', cv2.WINDOW_NORMAL)\r\n",
    "cv2.setWindowProperty('image', cv2.WND_PROP_FULLSCREEN, cv2.WINDOW_FULLSCREEN)\r\n",
    "\r\n",
    "# 무한 루프\r\n",
    "cnt = len(img_files)\r\n",
    "idx = 0\r\n",
    "\r\n",
    "while True:\r\n",
    "    img = cv2.imread(img_files[idx])\r\n",
    "\r\n",
    "    if img is None:\r\n",
    "        print('Image load failed!')\r\n",
    "        break\r\n",
    "\r\n",
    "    cv2.imshow('image', img)\r\n",
    "    if cv2.waitKey(1000) >= 0:\r\n",
    "        break\r\n",
    "\r\n",
    "    idx += 1\r\n",
    "    if idx >= cnt:\r\n",
    "        idx = 0\r\n",
    "\r\n",
    "cv2.destroyAllWindows()\r\n"
   ],
   "outputs": [
    {
     "output_type": "error",
     "ename": "Error",
     "evalue": "Session cannot generate requests",
     "traceback": [
      "Error: Session cannot generate requests",
      "at w.executeCodeCell (c:\\Users\\dahyeon\\.vscode\\extensions\\ms-toolsai.jupyter-2021.8.2031190714\\out\\client\\extension.js:52:301310)",
      "at w.execute (c:\\Users\\dahyeon\\.vscode\\extensions\\ms-toolsai.jupyter-2021.8.2031190714\\out\\client\\extension.js:52:300703)",
      "at w.start (c:\\Users\\dahyeon\\.vscode\\extensions\\ms-toolsai.jupyter-2021.8.2031190714\\out\\client\\extension.js:52:296367)",
      "at runMicrotasks (<anonymous>)",
      "at processTicksAndRejections (internal/process/task_queues.js:93:5)",
      "at async t.CellExecutionQueue.executeQueuedCells (c:\\Users\\dahyeon\\.vscode\\extensions\\ms-toolsai.jupyter-2021.8.2031190714\\out\\client\\extension.js:52:311160)",
      "at async t.CellExecutionQueue.start (c:\\Users\\dahyeon\\.vscode\\extensions\\ms-toolsai.jupyter-2021.8.2031190714\\out\\client\\extension.js:52:310700)"
     ]
    }
   ],
   "metadata": {}
  }
 ],
 "metadata": {
  "orig_nbformat": 4,
  "language_info": {
   "name": "python",
   "version": "3.9.6",
   "mimetype": "text/x-python",
   "codemirror_mode": {
    "name": "ipython",
    "version": 3
   },
   "pygments_lexer": "ipython3",
   "nbconvert_exporter": "python",
   "file_extension": ".py"
  },
  "kernelspec": {
   "name": "python3",
   "display_name": "Python 3.9.6 64-bit"
  },
  "interpreter": {
   "hash": "0611604c638db2c10c53cd7ac769fdce0e5d7f70f7d9206f4956bee3c7157847"
  }
 },
 "nbformat": 4,
 "nbformat_minor": 2
}